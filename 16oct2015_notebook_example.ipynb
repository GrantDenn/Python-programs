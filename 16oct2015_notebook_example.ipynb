{
 "cells": [
  {
   "cell_type": "markdown",
   "metadata": {},
   "source": [
    "# Python Abusers Group - 16 October 2015"
   ]
  },
  {
   "cell_type": "markdown",
   "metadata": {},
   "source": [
    "I created this jupyter notebook (formerly iPython notebook) as an example for the group. The first cell is the simple program that Dr. Denn gave us. You can execute it by pressing Shift-Enter."
   ]
  },
  {
   "cell_type": "code",
   "execution_count": null,
   "metadata": {
    "collapsed": true
   },
   "outputs": [],
   "source": [
    "import numpy as np\n",
    "import matplotlib.pyplot as plt\n",
    "num_points = 500\n",
    "x_min, x_max = 0,4\n",
    "x_values = np.linspace(x_min, x_max, num_points)\n",
    "y_values = x_values**2\n",
    "plt.plot(x_values, y_values)\n",
    "plt.show()\n"
   ]
  },
  {
   "cell_type": "markdown",
   "metadata": {},
   "source": [
    "Note that after executing the cell above, a new figure window opened to display the plot. Now, we will add a line of code to display the plot in this notebook."
   ]
  },
  {
   "cell_type": "code",
   "execution_count": null,
   "metadata": {
    "collapsed": false
   },
   "outputs": [],
   "source": [
    "%matplotlib inline \n",
    "\n",
    "num_points = 500\n",
    "x_min, x_max = 0,4\n",
    "x_values = np.linspace(x_min, x_max, num_points)\n",
    "y_values = x_values**2\n",
    "plt.plot(x_values, y_values)\n",
    "plt.show()"
   ]
  },
  {
   "cell_type": "markdown",
   "metadata": {},
   "source": [
    "Executing \"%matplotlib gtk\" will change the plot output back to an external window if desired. Try it below!"
   ]
  },
  {
   "cell_type": "code",
   "execution_count": null,
   "metadata": {
    "collapsed": false
   },
   "outputs": [],
   "source": [
    "%matplotlib gtk\n",
    "\n",
    "num_points = 500\n",
    "x_min, x_max = 0,4\n",
    "x_values = np.linspace(x_min, x_max, num_points)\n",
    "y_values = x_values**2\n",
    "plt.plot(x_values, y_values)\n",
    "plt.show()"
   ]
  },
  {
   "cell_type": "code",
   "execution_count": null,
   "metadata": {
    "collapsed": true
   },
   "outputs": [],
   "source": []
  }
 ],
 "metadata": {
  "kernelspec": {
   "display_name": "Python 2",
   "language": "python",
   "name": "python2"
  },
  "language_info": {
   "codemirror_mode": {
    "name": "ipython",
    "version": 2
   },
   "file_extension": ".py",
   "mimetype": "text/x-python",
   "name": "python",
   "nbconvert_exporter": "python",
   "pygments_lexer": "ipython2",
   "version": "2.7.9"
  }
 },
 "nbformat": 4,
 "nbformat_minor": 0
}
